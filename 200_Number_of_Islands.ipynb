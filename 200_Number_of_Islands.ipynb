{
  "nbformat": 4,
  "nbformat_minor": 0,
  "metadata": {
    "colab": {
      "name": "200. Number of Islands.ipynb",
      "provenance": [],
      "authorship_tag": "ABX9TyNaPfoH2n2AmJ2xzJ/uFNrQ",
      "include_colab_link": true
    },
    "kernelspec": {
      "name": "python3",
      "display_name": "Python 3"
    },
    "language_info": {
      "name": "python"
    }
  },
  "cells": [
    {
      "cell_type": "markdown",
      "metadata": {
        "id": "view-in-github",
        "colab_type": "text"
      },
      "source": [
        "<a href=\"https://colab.research.google.com/github/UmutMD/coding-problems/blob/main/200_Number_of_Islands.ipynb\" target=\"_parent\"><img src=\"https://colab.research.google.com/assets/colab-badge.svg\" alt=\"Open In Colab\"/></a>"
      ]
    },
    {
      "cell_type": "markdown",
      "source": [
        "https://leetcode.com/problems/number-of-islands/\n",
        "\n",
        "Given an m x n 2D binary grid grid which represents a map of '1's (land) and '0's (water), return the number of islands.\n",
        "\n",
        "An island is surrounded by water and is formed by connecting adjacent lands horizontally or vertically. You may assume all four edges of the grid are all surrounded by water.\n",
        "\n",
        "\n",
        "\n",
        "\n",
        "```\n",
        "# Example 1:\n",
        "\n",
        "\n",
        "\n",
        "  Input: grid = [\n",
        "  [\"1\",\"1\",\"1\",\"1\",\"0\"],\n",
        "  [\"1\",\"1\",\"0\",\"1\",\"0\"],\n",
        "  [\"1\",\"1\",\"0\",\"0\",\"0\"],\n",
        "  [\"0\",\"0\",\"0\",\"0\",\"0\"]\n",
        "  ]\n",
        "Output: 1\n",
        "```\n",
        "\n"
      ],
      "metadata": {
        "id": "tEpcHQdSnhMg"
      }
    },
    {
      "cell_type": "code",
      "source": [
        "class Solution:\n",
        "    def numIslands(self, grid: List[List[str]])-> int:\n",
        "        if not grid:\n",
        "            return 0\n",
        "        \n",
        "    \n",
        "    rows, cols = len(grid), len(grid[0])\n",
        "    visit = set()\n",
        "    islands = 0\n",
        "      \n",
        "    def bfs(r,c):\n",
        "        q = collections.deque()\n",
        "        visit.add((r,c))\n",
        "        q.append((r,c))\n",
        "        \n",
        "        while q:\n",
        "            row, col = q.popleft()\n",
        "            directions = [[1,0], [-1,0], [0,1],[0,-1]]            \n",
        "            for dr, dc in directions: \n",
        "                r, c = row+dr, col+dc\n",
        "                if ((r) in range(rows) and\n",
        "                    (c) in range(cols) and\n",
        "                    grid [r][c] == \"1\" and\n",
        "                    (r, c) not in visit):\n",
        "                    q.append((r,c))\n",
        "                    visit.add((r,c))\n",
        "        \n",
        "    for r  in range (rows):\n",
        "        for c in range(cols):\n",
        "            if grid[r][c] == \"1\" and (r,c) not in visit:\n",
        "                bfs(r,c)\n",
        "                islands +=1\n",
        "return islands            "
      ],
      "metadata": {
        "id": "kB-4CDfxng_V"
      },
      "execution_count": null,
      "outputs": []
    },
    {
      "cell_type": "code",
      "execution_count": null,
      "metadata": {
        "id": "yNjQE90undv7"
      },
      "outputs": [],
      "source": [
        ""
      ]
    }
  ]
}